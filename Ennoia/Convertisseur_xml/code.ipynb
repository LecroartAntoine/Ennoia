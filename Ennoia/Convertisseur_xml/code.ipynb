{
 "cells": [
  {
   "cell_type": "code",
   "execution_count": 224,
   "metadata": {},
   "outputs": [],
   "source": [
    "import pandas as pd\n",
    "\n",
    "df = pd.read_xml('TEST 22010HB.xml', encoding='utf-16')"
   ]
  },
  {
   "cell_type": "code",
   "execution_count": 225,
   "metadata": {},
   "outputs": [],
   "source": [
    "df = df.sort_values(by='Name', key=lambda col: col.str.lower()).reset_index(drop=True)"
   ]
  },
  {
   "cell_type": "code",
   "execution_count": 226,
   "metadata": {},
   "outputs": [],
   "source": [
    "df[['X', 'Y', 'Z']] = df['Coordinate'].str.split('  ', expand = True)"
   ]
  },
  {
   "cell_type": "code",
   "execution_count": 227,
   "metadata": {},
   "outputs": [],
   "source": [
    "df.drop('Coordinate', axis = 1, inplace = True)"
   ]
  },
  {
   "cell_type": "code",
   "execution_count": 228,
   "metadata": {},
   "outputs": [],
   "source": [
    "\n",
    "for col in ['X', 'Y', 'Z']:\n",
    "    df[col] = df[col].apply(lambda x : float(x))"
   ]
  },
  {
   "cell_type": "code",
   "execution_count": 229,
   "metadata": {},
   "outputs": [],
   "source": [
    "df.rename(columns={'Name':'Repère'}, inplace = True)"
   ]
  },
  {
   "cell_type": "code",
   "execution_count": 230,
   "metadata": {},
   "outputs": [],
   "source": [
    "values = df[\"Repère\"].values.tolist()\n",
    "for value in values:\n",
    "    occ = [x for x in values if x[2:] == value[2:]]\n",
    "\n",
    "    if len(occ) != 2:\n",
    "        print(value)"
   ]
  },
  {
   "cell_type": "code",
   "execution_count": 231,
   "metadata": {},
   "outputs": [],
   "source": [
    "df.set_index('Repère', inplace = True)\n"
   ]
  },
  {
   "cell_type": "code",
   "execution_count": 232,
   "metadata": {},
   "outputs": [],
   "source": [
    "df_dif = pd.DataFrame(columns=['Repère', 'X\\n+ : Décalage à gauche\\n- : Décalage à droite', 'Y\\n+ : recule\\n- : avancée', 'Z\\n+ : impaction\\n- : épaction'])\n",
    "df_dif\n",
    "\n",
    "break_point_inf = [value for value in df.index.tolist() if value[:2] == '00']\n",
    "break_point_sup = [value for value in df.index.tolist() if value[:2] != '00']\n",
    "\n",
    "for value in df.index[:len(break_point_inf)]:\n",
    "    row = [value[2:]]\n",
    "    row.append(float(df[df.index == (value[:1] + '1' + value[2:])]['X'].values - df[df.index == value]['X'].values))\n",
    "    row.append(float(df[df.index == (value[:1] + '1' + value[2:])]['Y'].values - df[df.index == value]['Y'].values))\n",
    "    row.append(float(df[df.index == (value[:1] + '1' + value[2:])]['Z'].values - df[df.index == value]['Z'].values))\n",
    "    df_dif.loc[len(df_dif)] = row\n",
    "\n",
    "df_dif.set_index('Repère', inplace = True)\n",
    "    "
   ]
  },
  {
   "cell_type": "code",
   "execution_count": 233,
   "metadata": {},
   "outputs": [],
   "source": [
    "df_before = df.loc[:break_point_inf[-1]].reset_index()\n",
    "df_after = df.loc[break_point_sup[0]:].reset_index()\n",
    "df_before['Repère'] = df_before['Repère'].apply(lambda x : x[2:])\n",
    "df_after['Repère'] = df_after['Repère'].apply(lambda x : x[2:])\n",
    "df_before.set_index('Repère', inplace=True)\n",
    "df_after.set_index('Repère', inplace=True)"
   ]
  },
  {
   "cell_type": "code",
   "execution_count": 235,
   "metadata": {},
   "outputs": [],
   "source": [
    "\n",
    "with pd.ExcelWriter('test.xlsx', engine='xlsxwriter') as writer:\n",
    "\n",
    "    df_before.to_excel(writer, sheet_name='Déplacement', startrow=1 , startcol=0) \n",
    "\n",
    "    df_after.to_excel(writer, sheet_name='Déplacement', startrow=1 , startcol=df.shape[1]+3)\n",
    "\n",
    "    df_dif.style.to_excel(writer, sheet_name='Déplacement', startrow=1, startcol=df.shape[1]*2+6) \n",
    "\n",
    "    format = writer.book.add_format({'num_format': '0.0'})\n",
    "    format_neg = writer.book.add_format({'num_format': '0.0', 'color' : 'red'})\n",
    "    format_pos = writer.book.add_format({'num_format': '0.0', 'color' : 'green'})\n",
    "\n",
    "    merge_format = writer.book.add_format({\"bold\": 1, \"border\": 1, \"align\": \"center\", \"valign\": \"vcenter\", \"fg_color\": \"#008db9\"})\n",
    "\n",
    "    writer.sheets['Déplacement'].conditional_format(f'{chr(65 + df.shape[1]*2+7)}2:{chr(65 + df.shape[1]*2+6 + df_dif.shape[1])}{df_dif.shape[0]+2}', {'type' : 'cell', 'criteria' : '<', 'value' : 0, 'format' : format_neg})\n",
    "    writer.sheets['Déplacement'].conditional_format(f'{chr(65 + df.shape[1]*2+7)}2:{chr(65 + df.shape[1]*2+6 + df_dif.shape[1])}{df_dif.shape[0]+2}', {'type' : 'cell', 'criteria' : '>=', 'value' : 0, 'format' : format_pos})\n",
    "\n",
    "    writer.sheets['Déplacement'].add_table(f'A2:{chr(65 + df.shape[1])}{len(break_point_inf)+2}', {'style': 'Table Style Medium 2','header_row': False})\n",
    "    writer.sheets['Déplacement'].add_table(f'{chr(65 + df.shape[1]+3)}2:{chr(65 + df.shape[1]*2+3)}{len(break_point_sup)+2}', {'style': 'Table Style Medium 2','header_row': False})\n",
    "    writer.sheets['Déplacement'].add_table(f'{chr(65 + df.shape[1]*2+6)}2:{chr(65 + df.shape[1]*2+6 + df_dif.shape[1])}{df_dif.shape[0]+2}', {'style': 'Table Style Light 9','header_row': False})\n",
    "\n",
    "    writer.sheets['Déplacement'].merge_range(f\"A1:{chr(65 + df.shape[1])}1\", \"Avant planification\", merge_format)\n",
    "    writer.sheets['Déplacement'].merge_range(f\"{chr(65 + df.shape[1]+3)}1:{chr(65 + df.shape[1]*2+3)}1\", \"Après planification\", merge_format)\n",
    "    writer.sheets['Déplacement'].merge_range(f\"{chr(65 + df.shape[1]*2+6)}1:{chr(65 + df.shape[1]*3+6)}1\", \"Déplacement prévu\", merge_format)\n",
    "\n",
    "    writer.sheets['Déplacement'].set_column(f'B:{chr(65 + df.shape[1])}', None, format)\n",
    "    writer.sheets['Déplacement'].set_column(f'{chr(65 + df.shape[1]+3)}:{chr(65 + df.shape[1]+3 + df_dif.shape[1])}', None, format)\n",
    "\n",
    "    writer.sheets['Déplacement'].set_row(1, 40)\n",
    "\n",
    "    writer.sheets['Déplacement'].autofit()\n"
   ]
  }
 ],
 "metadata": {
  "kernelspec": {
   "display_name": "Python 3",
   "language": "python",
   "name": "python3"
  },
  "language_info": {
   "codemirror_mode": {
    "name": "ipython",
    "version": 3
   },
   "file_extension": ".py",
   "mimetype": "text/x-python",
   "name": "python",
   "nbconvert_exporter": "python",
   "pygments_lexer": "ipython3",
   "version": "3.9.13"
  },
  "orig_nbformat": 4
 },
 "nbformat": 4,
 "nbformat_minor": 2
}
